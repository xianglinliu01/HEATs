{
 "cells": [
  {
   "cell_type": "code",
   "execution_count": 1,
   "metadata": {},
   "outputs": [],
   "source": [
    "import numpy as np\n",
    "import matplotlib.pyplot as plt\n",
    "import copy\n",
    "import os"
   ]
  },
  {
   "cell_type": "markdown",
   "metadata": {},
   "source": [
    "## Atom and Lattice"
   ]
  },
  {
   "cell_type": "code",
   "execution_count": 2,
   "metadata": {},
   "outputs": [
    {
     "name": "stdout",
     "output_type": "stream",
     "text": [
      "Class Atom:\n",
      "\n",
      "    Arguments:\n",
      "        index(int): the index of the atom\n",
      "        ele(string): the chemical element of the atom, vaccuum by default\n",
      "        position(float, len=3 vector): the position of the atom, origin by default\n",
      "        neighbor(dict{distance(rounded float): [index(int)]}): a dictionary of neighboring atoms \n",
      "    \n",
      "Class Lattice:\n",
      "\n",
      "    Arguments:\n",
      "        elements(string, iterable): a list of elements.\n",
      "        positions(float, iterable): a list of positions.\n",
      "        lattice_const(float): more like a scaling factor, not a vector.\n",
      "        lattice_vector(3 by 3 np.array): lattice vectors of the supercell.\n",
      "        r_max(float): radius cutoff for searching neighbors.\n",
      "        cal_neighbor(bool): whether calculate the neighboring index of each atom.\n",
      "    Attributes:\n",
      "        Lattice.atom_list(Atom, list): a list of Atoms.\n",
      "    \n"
     ]
    }
   ],
   "source": [
    "from Lattice import Atom\n",
    "from Lattice import Lattice\n",
    "\n",
    "print(\"Class Atom:\")\n",
    "print(Atom.__doc__)\n",
    "\n",
    "print(\"Class Lattice:\")\n",
    "print(Lattice.__doc__)"
   ]
  },
  {
   "cell_type": "code",
   "execution_count": 5,
   "metadata": {},
   "outputs": [
    {
     "name": "stdout",
     "output_type": "stream",
     "text": [
      "==================================================\n",
      "Parameters of class Lattice\n",
      "==================================================\n",
      "lattice_const: 4.3\n",
      "lattice_vector: \n",
      "[[ 0.5        -0.8660254   0.        ]\n",
      " [ 0.5         0.8660254   0.        ]\n",
      " [ 0.          0.          1.63299316]]\n",
      "n_atom: 2\n",
      "r_max: 2.5\n",
      "atom_list: [Atom_0: Co, Atom_1: Ni]\n"
     ]
    }
   ],
   "source": [
    "# Example:\n",
    "elements = np.array(['Co', 'Ni'], dtype='<U17')\n",
    "positions = np.array([[ 0.        ,  0.        ,  0.        ],\n",
    "       [ 0.        , -0.57735027,  0.81649658]])\n",
    "lattice_const = 4.3\n",
    "lattice_vector = np.array([[ 0.5       , -0.8660254 ,  0.        ],\n",
    "       [ 0.5       ,  0.8660254 ,  0.        ],\n",
    "       [ 0.        ,  0.        ,  1.63299316]])\n",
    "r_max = 2.5\n",
    "lattice = Lattice(elements, positions, lattice_const=lattice_const, \\\n",
    "                  lattice_vector=lattice_vector, r_max=r_max,  cal_neighbor=True)\n",
    "lattice.print_info()"
   ]
  },
  {
   "cell_type": "code",
   "execution_count": 6,
   "metadata": {},
   "outputs": [
    {
     "data": {
      "text/plain": [
       "[Atom_0: Co, Atom_1: Ni]"
      ]
     },
     "execution_count": 6,
     "metadata": {},
     "output_type": "execute_result"
    }
   ],
   "source": [
    "lattice.atom_list"
   ]
  },
  {
   "cell_type": "code",
   "execution_count": 7,
   "metadata": {
    "scrolled": true
   },
   "outputs": [
    {
     "data": {
      "text/plain": [
       "{'index': 0,\n",
       " 'ele': 'Co',\n",
       " 'position': array([0., 0., 0.]),\n",
       " 'neighbor': {2.2360679774: [1, 1, 1, 1],\n",
       "  1.7320508057: [0, 0, 0, 0],\n",
       "  2.3804761402: [0, 0, 0, 0, 0, 0, 0, 0],\n",
       "  2.2360679752: [1, 1, 1, 1],\n",
       "  1.4142135622: [1, 1, 1, 1],\n",
       "  1.9999999934: [0, 0, 0, 0],\n",
       "  1.7320508047: [1, 1, 1, 1],\n",
       "  1.9148542122: [0, 0, 0, 0, 0, 0, 0, 0],\n",
       "  0.9999999967: [0, 0, 0, 0],\n",
       "  2.4494897361: [1, 1],\n",
       "  2.3804761361: [0, 0, 0, 0],\n",
       "  0.9999999997: [1, 1],\n",
       "  1.7320508: [0, 0],\n",
       "  1.7320508064: [1, 1, 1, 1],\n",
       "  1.9148542139: [0, 0, 0, 0],\n",
       "  0.9999999979: [1, 1, 1, 1],\n",
       "  1.7320508015: [1, 1, 1, 1],\n",
       "  2.2360679662: [1, 1, 1, 1],\n",
       "  2.4494897385: [1, 1, 1, 1],\n",
       "  1.63299316: [0, 0],\n",
       "  1.414213555: [1, 1],\n",
       "  2.0: [0, 0],\n",
       "  1.0: [0, 0],\n",
       "  0.0: [0]}}"
      ]
     },
     "execution_count": 7,
     "metadata": {},
     "output_type": "execute_result"
    }
   ],
   "source": [
    "lattice.atom_list[0].__dict__"
   ]
  },
  {
   "cell_type": "markdown",
   "metadata": {},
   "source": [
    "# GenPosition\n",
    "Generate random configurations and save them as input files for LSMS calculations"
   ]
  },
  {
   "cell_type": "code",
   "execution_count": 8,
   "metadata": {},
   "outputs": [
    {
     "name": "stdout",
     "output_type": "stream",
     "text": [
      "\n",
      "    Generate the position file and save it at file_postion.\n",
      "    Example:\n",
      "        1: generate_random_position(file_position)\n",
      "            Defualt, 1 Vaccum atom cubic cell\n",
      "        2: generate_random_position(file_position, positions=[[0.0, 0.0, 0.0], [0.5, 0.5, 0.5]],                        lattice_vector=np.array([[1.0, 0.0, 0.0],[0.0, 1.0, 0.0],[0.0, 0.0, 1.0]]),                        ele_dict={'Mo':8, 'V':8}, n_repeat=[2, 2, 2])\n",
      "            2 by 2 by 2 BCC cell, a total of 16 atoms, with 8 Mo and 8 V atoms.\n",
      "        3: position_fcc = [[0,0,0],[0.5, 0.5, 0.0], [0.5, 0.0, 0.5], [0.0, 0.5, 0.5]]\n",
      "           generate_random_position(file_position, positions = position_fcc,                         lattice_vector = np.array([[1.0, 0.0, 0.0],[0.0, 1.0, 0.0],[0.0, 0.0, 1.0]]),                        ele_dict={'Mo':16, 'V':16}, n_repeat=[2,2,2])\n",
      "            2 by 2 by 2 FCC cell, a total of 32 atoms, with 16 Mo and 16 V atoms.\n",
      "    \n"
     ]
    }
   ],
   "source": [
    "import numpy as np\n",
    "import os\n",
    "from GenPosition import generate_random_position\n",
    "\n",
    "print(generate_random_position.__doc__)"
   ]
  },
  {
   "cell_type": "code",
   "execution_count": 9,
   "metadata": {},
   "outputs": [
    {
     "name": "stdout",
     "output_type": "stream",
     "text": [
      "==================================================\n",
      "Parameters of class Lattice\n",
      "==================================================\n",
      "lattice_const: 6.2\n",
      "lattice_vector: \n",
      "[[4. 0. 0.]\n",
      " [0. 4. 0.]\n",
      " [0. 0. 4.]]\n",
      "n_atom: 128\n",
      "r_max: 0.0\n",
      "atom_list: [Atom_0: W, Atom_1: Nb, Atom_2: Mo, Atom_3: Nb, Atom_4: V, Atom_5: Nb, Atom_6: Nb, Atom_7: V, Atom_8: Nb, Atom_9: Nb, Atom_10: V, Atom_11: Nb, Atom_12: V, Atom_13: V, Atom_14: W, Atom_15: Mo, Atom_16: W, Atom_17: V, Atom_18: Mo, Atom_19: Nb, Atom_20: Mo, Atom_21: Nb, Atom_22: V, Atom_23: W, Atom_24: Nb, Atom_25: Mo, Atom_26: W, Atom_27: V, Atom_28: Mo, Atom_29: W, Atom_30: W, Atom_31: Nb, Atom_32: V, Atom_33: Nb, Atom_34: Nb, Atom_35: Mo, Atom_36: V, Atom_37: W, Atom_38: Nb, Atom_39: V, Atom_40: V, Atom_41: W, Atom_42: V, Atom_43: Nb, Atom_44: W, Atom_45: Nb, Atom_46: Mo, Atom_47: W, Atom_48: Mo, Atom_49: Mo, Atom_50: V, Atom_51: W, Atom_52: Nb, Atom_53: V, Atom_54: Nb, Atom_55: W, Atom_56: V, Atom_57: Nb, Atom_58: V, Atom_59: V, Atom_60: W, Atom_61: Mo, Atom_62: W, Atom_63: W, Atom_64: W, Atom_65: Nb, Atom_66: V, Atom_67: W, Atom_68: Mo, Atom_69: Mo, Atom_70: V, Atom_71: W, Atom_72: W, Atom_73: Mo, Atom_74: V, Atom_75: V, Atom_76: W, Atom_77: V, Atom_78: Mo, Atom_79: V, Atom_80: W, Atom_81: Nb, Atom_82: Mo, Atom_83: Mo, Atom_84: W, Atom_85: Mo, Atom_86: Mo, Atom_87: Mo, Atom_88: Nb, Atom_89: W, Atom_90: Nb, Atom_91: Mo, Atom_92: Mo, Atom_93: Mo, Atom_94: V, Atom_95: Mo, Atom_96: Nb, Atom_97: Nb, Atom_98: Nb, Atom_99: W, Atom_100: W, Atom_101: Mo, Atom_102: Nb, Atom_103: V, Atom_104: V, Atom_105: W, Atom_106: W, Atom_107: W, Atom_108: Mo, Atom_109: V, Atom_110: V, Atom_111: W, Atom_112: Nb, Atom_113: Mo, Atom_114: Mo, Atom_115: W, Atom_116: Nb, Atom_117: V, Atom_118: Nb, Atom_119: W, Atom_120: Mo, Atom_121: V, Atom_122: Mo, Atom_123: Nb, Atom_124: Mo, Atom_125: Mo, Atom_126: V, Atom_127: Nb]\n"
     ]
    }
   ],
   "source": [
    "lattice_new = generate_random_position(positions=[[0.0, 0.0, 0.0], [0.5, 0.5, 0.5]],\\\n",
    "                        lattice_vector=np.array([[1.0, 0.0, 0.0],[0.0, 1.0, 0.0],[0.0, 0.0, 1.0]]),\\\n",
    "                        ele_dict={'Mo':32, 'Nb':32, 'V':32, 'W':32}, n_repeat=[4, 4, 4], lattice_const=6.2)"
   ]
  },
  {
   "cell_type": "code",
   "execution_count": 10,
   "metadata": {},
   "outputs": [
    {
     "name": "stdout",
     "output_type": "stream",
     "text": [
      "#Lattice constant:\n",
      "  6.200000000000\n",
      "# Lattice vector:\n",
      "  4.000000000000\t  0.000000000000\t  0.000000000000\n",
      "  0.000000000000\t  4.000000000000\t  0.000000000000\n",
      "  0.000000000000\t  0.000000000000\t  4.000000000000\n",
      "# Number of medium atoms:\t128\n",
      "# Number of medium atom type:\t4\n",
      "W\t  0.000000000000\t  0.000000000000\t  0.000000000000\n",
      "Nb\t  0.500000000000\t  0.500000000000\t  0.500000000000\n",
      "Mo\t  1.000000000000\t  0.000000000000\t  0.000000000000\n",
      "Nb\t  1.500000000000\t  0.500000000000\t  0.500000000000\n",
      "V\t  2.000000000000\t  0.000000000000\t  0.000000000000\n",
      "Nb\t  2.500000000000\t  0.500000000000\t  0.500000000000\n",
      "Nb\t  3.000000000000\t  0.000000000000\t  0.000000000000\n",
      "V\t  3.500000000000\t  0.500000000000\t  0.500000000000\n",
      "Nb\t  0.000000000000\t  1.000000000000\t  0.000000000000\n",
      "Nb\t  0.500000000000\t  1.500000000000\t  0.500000000000\n",
      "V\t  1.000000000000\t  1.000000000000\t  0.000000000000\n",
      "Nb\t  1.500000000000\t  1.500000000000\t  0.500000000000\n",
      "V\t  2.000000000000\t  1.000000000000\t  0.000000000000\n",
      "V\t  2.500000000000\t  1.500000000000\t  0.500000000000\n",
      "W\t  3.000000000000\t  1.000000000000\t  0.000000000000\n",
      "Mo\t  3.500000000000\t  1.500000000000\t  0.500000000000\n",
      "W\t  0.000000000000\t  2.000000000000\t  0.000000000000\n",
      "V\t  0.500000000000\t  2.500000000000\t  0.500000000000\n",
      "Mo\t  1.000000000000\t  2.000000000000\t  0.000000000000\n",
      "Nb\t  1.500000000000\t  2.500000000000\t  0.500000000000\n",
      "Mo\t  2.000000000000\t  2.000000000000\t  0.000000000000\n",
      "Nb\t  2.500000000000\t  2.500000000000\t  0.500000000000\n",
      "V\t  3.000000000000\t  2.000000000000\t  0.000000000000\n",
      "W\t  3.500000000000\t  2.500000000000\t  0.500000000000\n",
      "Nb\t  0.000000000000\t  3.000000000000\t  0.000000000000\n",
      "Mo\t  0.500000000000\t  3.500000000000\t  0.500000000000\n",
      "W\t  1.000000000000\t  3.000000000000\t  0.000000000000\n",
      "V\t  1.500000000000\t  3.500000000000\t  0.500000000000\n",
      "Mo\t  2.000000000000\t  3.000000000000\t  0.000000000000\n",
      "W\t  2.500000000000\t  3.500000000000\t  0.500000000000\n",
      "W\t  3.000000000000\t  3.000000000000\t  0.000000000000\n",
      "Nb\t  3.500000000000\t  3.500000000000\t  0.500000000000\n",
      "V\t  0.000000000000\t  0.000000000000\t  1.000000000000\n",
      "Nb\t  0.500000000000\t  0.500000000000\t  1.500000000000\n",
      "Nb\t  1.000000000000\t  0.000000000000\t  1.000000000000\n",
      "Mo\t  1.500000000000\t  0.500000000000\t  1.500000000000\n",
      "V\t  2.000000000000\t  0.000000000000\t  1.000000000000\n",
      "W\t  2.500000000000\t  0.500000000000\t  1.500000000000\n",
      "Nb\t  3.000000000000\t  0.000000000000\t  1.000000000000\n",
      "V\t  3.500000000000\t  0.500000000000\t  1.500000000000\n",
      "V\t  0.000000000000\t  1.000000000000\t  1.000000000000\n",
      "W\t  0.500000000000\t  1.500000000000\t  1.500000000000\n",
      "V\t  1.000000000000\t  1.000000000000\t  1.000000000000\n",
      "Nb\t  1.500000000000\t  1.500000000000\t  1.500000000000\n",
      "W\t  2.000000000000\t  1.000000000000\t  1.000000000000\n",
      "Nb\t  2.500000000000\t  1.500000000000\t  1.500000000000\n",
      "Mo\t  3.000000000000\t  1.000000000000\t  1.000000000000\n",
      "W\t  3.500000000000\t  1.500000000000\t  1.500000000000\n",
      "Mo\t  0.000000000000\t  2.000000000000\t  1.000000000000\n",
      "Mo\t  0.500000000000\t  2.500000000000\t  1.500000000000\n",
      "V\t  1.000000000000\t  2.000000000000\t  1.000000000000\n",
      "W\t  1.500000000000\t  2.500000000000\t  1.500000000000\n",
      "Nb\t  2.000000000000\t  2.000000000000\t  1.000000000000\n",
      "V\t  2.500000000000\t  2.500000000000\t  1.500000000000\n",
      "Nb\t  3.000000000000\t  2.000000000000\t  1.000000000000\n",
      "W\t  3.500000000000\t  2.500000000000\t  1.500000000000\n",
      "V\t  0.000000000000\t  3.000000000000\t  1.000000000000\n",
      "Nb\t  0.500000000000\t  3.500000000000\t  1.500000000000\n",
      "V\t  1.000000000000\t  3.000000000000\t  1.000000000000\n",
      "V\t  1.500000000000\t  3.500000000000\t  1.500000000000\n",
      "W\t  2.000000000000\t  3.000000000000\t  1.000000000000\n",
      "Mo\t  2.500000000000\t  3.500000000000\t  1.500000000000\n",
      "W\t  3.000000000000\t  3.000000000000\t  1.000000000000\n",
      "W\t  3.500000000000\t  3.500000000000\t  1.500000000000\n",
      "W\t  0.000000000000\t  0.000000000000\t  2.000000000000\n",
      "Nb\t  0.500000000000\t  0.500000000000\t  2.500000000000\n",
      "V\t  1.000000000000\t  0.000000000000\t  2.000000000000\n",
      "W\t  1.500000000000\t  0.500000000000\t  2.500000000000\n",
      "Mo\t  2.000000000000\t  0.000000000000\t  2.000000000000\n",
      "Mo\t  2.500000000000\t  0.500000000000\t  2.500000000000\n",
      "V\t  3.000000000000\t  0.000000000000\t  2.000000000000\n",
      "W\t  3.500000000000\t  0.500000000000\t  2.500000000000\n",
      "W\t  0.000000000000\t  1.000000000000\t  2.000000000000\n",
      "Mo\t  0.500000000000\t  1.500000000000\t  2.500000000000\n",
      "V\t  1.000000000000\t  1.000000000000\t  2.000000000000\n",
      "V\t  1.500000000000\t  1.500000000000\t  2.500000000000\n",
      "W\t  2.000000000000\t  1.000000000000\t  2.000000000000\n",
      "V\t  2.500000000000\t  1.500000000000\t  2.500000000000\n",
      "Mo\t  3.000000000000\t  1.000000000000\t  2.000000000000\n",
      "V\t  3.500000000000\t  1.500000000000\t  2.500000000000\n",
      "W\t  0.000000000000\t  2.000000000000\t  2.000000000000\n",
      "Nb\t  0.500000000000\t  2.500000000000\t  2.500000000000\n",
      "Mo\t  1.000000000000\t  2.000000000000\t  2.000000000000\n",
      "Mo\t  1.500000000000\t  2.500000000000\t  2.500000000000\n",
      "W\t  2.000000000000\t  2.000000000000\t  2.000000000000\n",
      "Mo\t  2.500000000000\t  2.500000000000\t  2.500000000000\n",
      "Mo\t  3.000000000000\t  2.000000000000\t  2.000000000000\n",
      "Mo\t  3.500000000000\t  2.500000000000\t  2.500000000000\n",
      "Nb\t  0.000000000000\t  3.000000000000\t  2.000000000000\n",
      "W\t  0.500000000000\t  3.500000000000\t  2.500000000000\n",
      "Nb\t  1.000000000000\t  3.000000000000\t  2.000000000000\n",
      "Mo\t  1.500000000000\t  3.500000000000\t  2.500000000000\n",
      "Mo\t  2.000000000000\t  3.000000000000\t  2.000000000000\n",
      "Mo\t  2.500000000000\t  3.500000000000\t  2.500000000000\n",
      "V\t  3.000000000000\t  3.000000000000\t  2.000000000000\n",
      "Mo\t  3.500000000000\t  3.500000000000\t  2.500000000000\n",
      "Nb\t  0.000000000000\t  0.000000000000\t  3.000000000000\n",
      "Nb\t  0.500000000000\t  0.500000000000\t  3.500000000000\n",
      "Nb\t  1.000000000000\t  0.000000000000\t  3.000000000000\n",
      "W\t  1.500000000000\t  0.500000000000\t  3.500000000000\n",
      "W\t  2.000000000000\t  0.000000000000\t  3.000000000000\n",
      "Mo\t  2.500000000000\t  0.500000000000\t  3.500000000000\n",
      "Nb\t  3.000000000000\t  0.000000000000\t  3.000000000000\n",
      "V\t  3.500000000000\t  0.500000000000\t  3.500000000000\n",
      "V\t  0.000000000000\t  1.000000000000\t  3.000000000000\n",
      "W\t  0.500000000000\t  1.500000000000\t  3.500000000000\n",
      "W\t  1.000000000000\t  1.000000000000\t  3.000000000000\n",
      "W\t  1.500000000000\t  1.500000000000\t  3.500000000000\n",
      "Mo\t  2.000000000000\t  1.000000000000\t  3.000000000000\n",
      "V\t  2.500000000000\t  1.500000000000\t  3.500000000000\n",
      "V\t  3.000000000000\t  1.000000000000\t  3.000000000000\n",
      "W\t  3.500000000000\t  1.500000000000\t  3.500000000000\n",
      "Nb\t  0.000000000000\t  2.000000000000\t  3.000000000000\n",
      "Mo\t  0.500000000000\t  2.500000000000\t  3.500000000000\n",
      "Mo\t  1.000000000000\t  2.000000000000\t  3.000000000000\n",
      "W\t  1.500000000000\t  2.500000000000\t  3.500000000000\n",
      "Nb\t  2.000000000000\t  2.000000000000\t  3.000000000000\n",
      "V\t  2.500000000000\t  2.500000000000\t  3.500000000000\n",
      "Nb\t  3.000000000000\t  2.000000000000\t  3.000000000000\n",
      "W\t  3.500000000000\t  2.500000000000\t  3.500000000000\n",
      "Mo\t  0.000000000000\t  3.000000000000\t  3.000000000000\n",
      "V\t  0.500000000000\t  3.500000000000\t  3.500000000000\n",
      "Mo\t  1.000000000000\t  3.000000000000\t  3.000000000000\n",
      "Nb\t  1.500000000000\t  3.500000000000\t  3.500000000000\n",
      "Mo\t  2.000000000000\t  3.000000000000\t  3.000000000000\n",
      "Mo\t  2.500000000000\t  3.500000000000\t  3.500000000000\n",
      "V\t  3.000000000000\t  3.000000000000\t  3.000000000000\n",
      "Nb\t  3.500000000000\t  3.500000000000\t  3.500000000000\n"
     ]
    }
   ],
   "source": [
    "file_dat = os.path.join(os.getcwd(), \"position.dat\")\n",
    "lattice_new.write_positions_LSMS2(file_dat)\n",
    "with open(\"position.dat\") as file:\n",
    "    data = file.readlines()\n",
    "\n",
    "for x in data:\n",
    "    print(x,end = '')"
   ]
  },
  {
   "cell_type": "markdown",
   "metadata": {},
   "source": [
    "Set the value of r_max to find the neighbors and print out the neighbors "
   ]
  },
  {
   "cell_type": "code",
   "execution_count": 16,
   "metadata": {},
   "outputs": [],
   "source": [
    "lattice_new.reset_r_max(2.0)\n",
    "file_neighbor = \"neighbors_tmp/neighbors.dat\"\n",
    "lattice_new.write_neighbors(file_neighbor)"
   ]
  },
  {
   "cell_type": "markdown",
   "metadata": {},
   "source": [
    "# Output X data for EPI model"
   ]
  },
  {
   "cell_type": "code",
   "execution_count": 26,
   "metadata": {
    "scrolled": true
   },
   "outputs": [
    {
     "data": {
      "text/plain": [
       "[Atom_0: W,\n",
       " Atom_1: Nb,\n",
       " Atom_2: Mo,\n",
       " Atom_3: Nb,\n",
       " Atom_4: V,\n",
       " Atom_5: Nb,\n",
       " Atom_6: Nb,\n",
       " Atom_7: V,\n",
       " Atom_8: Nb,\n",
       " Atom_9: Nb,\n",
       " Atom_10: V,\n",
       " Atom_11: Nb,\n",
       " Atom_12: V,\n",
       " Atom_13: V,\n",
       " Atom_14: W,\n",
       " Atom_15: Mo,\n",
       " Atom_16: W,\n",
       " Atom_17: V,\n",
       " Atom_18: Mo,\n",
       " Atom_19: Nb,\n",
       " Atom_20: Mo,\n",
       " Atom_21: Nb,\n",
       " Atom_22: V,\n",
       " Atom_23: W,\n",
       " Atom_24: Nb,\n",
       " Atom_25: Mo,\n",
       " Atom_26: W,\n",
       " Atom_27: V,\n",
       " Atom_28: Mo,\n",
       " Atom_29: W,\n",
       " Atom_30: W,\n",
       " Atom_31: Nb,\n",
       " Atom_32: V,\n",
       " Atom_33: Nb,\n",
       " Atom_34: Nb,\n",
       " Atom_35: Mo,\n",
       " Atom_36: V,\n",
       " Atom_37: W,\n",
       " Atom_38: Nb,\n",
       " Atom_39: V,\n",
       " Atom_40: V,\n",
       " Atom_41: W,\n",
       " Atom_42: V,\n",
       " Atom_43: Nb,\n",
       " Atom_44: W,\n",
       " Atom_45: Nb,\n",
       " Atom_46: Mo,\n",
       " Atom_47: W,\n",
       " Atom_48: Mo,\n",
       " Atom_49: Mo,\n",
       " Atom_50: V,\n",
       " Atom_51: W,\n",
       " Atom_52: Nb,\n",
       " Atom_53: V,\n",
       " Atom_54: Nb,\n",
       " Atom_55: W,\n",
       " Atom_56: V,\n",
       " Atom_57: Nb,\n",
       " Atom_58: V,\n",
       " Atom_59: V,\n",
       " Atom_60: W,\n",
       " Atom_61: Mo,\n",
       " Atom_62: W,\n",
       " Atom_63: W,\n",
       " Atom_64: W,\n",
       " Atom_65: Nb,\n",
       " Atom_66: V,\n",
       " Atom_67: W,\n",
       " Atom_68: Mo,\n",
       " Atom_69: Mo,\n",
       " Atom_70: V,\n",
       " Atom_71: W,\n",
       " Atom_72: W,\n",
       " Atom_73: Mo,\n",
       " Atom_74: V,\n",
       " Atom_75: V,\n",
       " Atom_76: W,\n",
       " Atom_77: V,\n",
       " Atom_78: Mo,\n",
       " Atom_79: V,\n",
       " Atom_80: W,\n",
       " Atom_81: Nb,\n",
       " Atom_82: Mo,\n",
       " Atom_83: Mo,\n",
       " Atom_84: W,\n",
       " Atom_85: Mo,\n",
       " Atom_86: Mo,\n",
       " Atom_87: Mo,\n",
       " Atom_88: Nb,\n",
       " Atom_89: W,\n",
       " Atom_90: Nb,\n",
       " Atom_91: Mo,\n",
       " Atom_92: Mo,\n",
       " Atom_93: Mo,\n",
       " Atom_94: V,\n",
       " Atom_95: Mo,\n",
       " Atom_96: Nb,\n",
       " Atom_97: Nb,\n",
       " Atom_98: Nb,\n",
       " Atom_99: W,\n",
       " Atom_100: W,\n",
       " Atom_101: Mo,\n",
       " Atom_102: Nb,\n",
       " Atom_103: V,\n",
       " Atom_104: V,\n",
       " Atom_105: W,\n",
       " Atom_106: W,\n",
       " Atom_107: W,\n",
       " Atom_108: Mo,\n",
       " Atom_109: V,\n",
       " Atom_110: V,\n",
       " Atom_111: W,\n",
       " Atom_112: Nb,\n",
       " Atom_113: Mo,\n",
       " Atom_114: Mo,\n",
       " Atom_115: W,\n",
       " Atom_116: Nb,\n",
       " Atom_117: V,\n",
       " Atom_118: Nb,\n",
       " Atom_119: W,\n",
       " Atom_120: Mo,\n",
       " Atom_121: V,\n",
       " Atom_122: Mo,\n",
       " Atom_123: Nb,\n",
       " Atom_124: Mo,\n",
       " Atom_125: Mo,\n",
       " Atom_126: V,\n",
       " Atom_127: Nb]"
      ]
     },
     "execution_count": 26,
     "metadata": {},
     "output_type": "execute_result"
    }
   ],
   "source": [
    "lattice_new.atom_list"
   ]
  },
  {
   "cell_type": "code",
   "execution_count": 11,
   "metadata": {},
   "outputs": [
    {
     "name": "stdout",
     "output_type": "stream",
     "text": [
      "X data:\n",
      "[[0.060546875, 0.12890625, 0.11328125, 0.13671875, 0.05859375, 0.130859375, 0.123046875, 0.060546875, 0.134765625, 0.052734375], [0.052083333333333336, 0.140625, 0.15104166666666666, 0.10416666666666667, 0.0625, 0.10677083333333333, 0.12760416666666666, 0.0625, 0.1171875, 0.07552083333333333], [0.059895833333333336, 0.13671875, 0.13411458333333334, 0.109375, 0.05078125, 0.1328125, 0.12890625, 0.0546875, 0.12369791666666667, 0.06901041666666667]]\n",
      "[1.0, 1.0, 1.0]\n"
     ]
    }
   ],
   "source": [
    "print(\"X data:\")\n",
    "print(lattice_new.cal_EPI_Xdata())\n",
    "print([np.sum(i) for i in lattice_new.cal_EPI_Xdata()])"
   ]
  },
  {
   "cell_type": "code",
   "execution_count": 12,
   "metadata": {},
   "outputs": [],
   "source": [
    "lattice_new.write_EPI_Xdata(\"EPI_Xdata.dat\")"
   ]
  },
  {
   "cell_type": "markdown",
   "metadata": {},
   "source": [
    "## The Monte Carlo simulation results"
   ]
  },
  {
   "cell_type": "code",
   "execution_count": 1,
   "metadata": {},
   "outputs": [],
   "source": [
    "data_raw=\"\"\"CV_record_g:\n",
    "3.69588e-07\n",
    "3.82882e-07\n",
    "4.13477e-07\n",
    "4.38036e-07\n",
    "4.5771e-07\n",
    "4.95246e-07\n",
    "5.32046e-07\n",
    "5.76607e-07\n",
    "6.27168e-07\n",
    "6.80204e-07\n",
    "7.3656e-07\n",
    "8.19123e-07\n",
    "9.21266e-07\n",
    "1.03597e-06\n",
    "1.13068e-06\n",
    "1.32929e-06\n",
    "1.49322e-06\n",
    "1.74925e-06\n",
    "2.04716e-06\n",
    "2.40096e-06\n",
    "2.69069e-06\n",
    "3.08295e-06\n",
    "3.35425e-06\n",
    "3.48301e-06\n",
    "3.45754e-06\n",
    "3.35775e-06\n",
    "3.05249e-06\n",
    "2.77079e-06\n",
    "2.59933e-06\n",
    "2.3371e-06\n",
    "2.19993e-06\n",
    "1.99787e-06\n",
    "1.94182e-06\n",
    "1.73108e-06\n",
    "1.66963e-06\n",
    "1.61674e-06\n",
    "1.59238e-06\n",
    "1.59359e-06\n",
    "1.75171e-06\n",
    "1.56513e-06\n",
    "2.00502e-06\n",
    "1.83051e-06\n",
    "2.19242e-06\n",
    "2.61007e-06\n",
    "3.24248e-06\n",
    "1.6134e-06\n",
    "1.26185e-06\n",
    "1.0522e-06\n",
    "4.92189e-07\n",
    "3.78081e-07\"\"\""
   ]
  },
  {
   "cell_type": "code",
   "execution_count": 9,
   "metadata": {},
   "outputs": [],
   "source": [
    "data_raw.splitlines()\n",
    "data_CV = [float(i) for i in data_raw.splitlines()[1:]]"
   ]
  },
  {
   "cell_type": "code",
   "execution_count": 8,
   "metadata": {},
   "outputs": [],
   "source": [
    "data_T = \"\"\"T_record_g:\n",
    "2000\n",
    "1960.2\n",
    "1920.41\n",
    "1880.61\n",
    "1840.82\n",
    "1801.02\n",
    "1761.22\n",
    "1721.43\n",
    "1681.63\n",
    "1641.84\n",
    "1602.04\n",
    "1562.24\n",
    "1522.45\n",
    "1482.65\n",
    "1442.86\n",
    "1403.06\n",
    "1363.27\n",
    "1323.47\n",
    "1283.67\n",
    "1243.88\n",
    "1204.08\n",
    "1164.29\n",
    "1124.49\n",
    "1084.69\n",
    "1044.9\n",
    "1005.1\n",
    "965.306\n",
    "925.51\n",
    "885.714\n",
    "845.918\n",
    "806.122\n",
    "766.327\n",
    "726.531\n",
    "686.735\n",
    "646.939\n",
    "607.143\n",
    "567.347\n",
    "527.551\n",
    "487.755\n",
    "447.959\n",
    "408.163\n",
    "368.367\n",
    "328.571\n",
    "288.776\n",
    "248.98\n",
    "209.184\n",
    "169.388\n",
    "129.592\n",
    "89.7959\n",
    "50\"\"\".splitlines()[1:]\n",
    "data_T = [float(i) for i in data_T]"
   ]
  },
  {
   "cell_type": "code",
   "execution_count": 13,
   "metadata": {},
   "outputs": [
    {
     "data": {
      "text/plain": [
       "[<matplotlib.lines.Line2D at 0x7f97400edeb0>]"
      ]
     },
     "execution_count": 13,
     "metadata": {},
     "output_type": "execute_result"
    },
    {
     "data": {
      "image/png": "[encoded data removed]",
      "text/plain": [
       "<Figure size 432x288 with 1 Axes>"
      ]
     },
     "metadata": {
      "needs_background": "light"
     },
     "output_type": "display_data"
    }
   ],
   "source": [
    "import matplotlib.pyplot as plt\n",
    "plt.plot(data_T, data_CV, \"ro-\")"
   ]
  },
  {
   "cell_type": "code",
   "execution_count": null,
   "metadata": {},
   "outputs": [],
   "source": []
  }
 ],
 "metadata": {
  "kernelspec": {
   "display_name": "Python 3 (ipykernel)",
   "language": "python",
   "name": "python3"
  },
  "language_info": {
   "codemirror_mode": {
    "name": "ipython",
    "version": 3
   },
   "file_extension": ".py",
   "mimetype": "text/x-python",
   "name": "python",
   "nbconvert_exporter": "python",
   "pygments_lexer": "ipython3",
   "version": "3.9.11"
  }
 },
 "nbformat": 4,
 "nbformat_minor": 2
}
